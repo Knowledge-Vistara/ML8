{
 "cells": [
  {
   "cell_type": "code",
   "execution_count": 1,
   "metadata": {},
   "outputs": [
    {
     "data": {
      "text/plain": [
       "Text(0,0.5,'Petal Width')"
      ]
     },
     "execution_count": 1,
     "metadata": {},
     "output_type": "execute_result"
    }
   ],
   "source": [
    "import matplotlib.pyplot as plt\n",
    "from sklearn import datasets\n",
    "from sklearn.cluster import KMeans\n",
    "import pandas as pd\n",
    "import numpy as np\n",
    "\n",
    "iris=datasets.load_iris()\n",
    "x=pd.DataFrame(iris.data)\n",
    "x.columns=['Sepal_Length','Sepal_Width','Petal_Length','Petal_Width']\n",
    "y=pd.DataFrame(iris.target)\n",
    "y.columns=['Targets']\n",
    "model=KMeans(n_clusters=3)\n",
    "model.fit(x)\n",
    "plt.figure(figsize=(14,14))\n",
    "colormap=np.array(['red','lime','black'])\n",
    "plt.subplot(2,2,1)\n",
    "plt.scatter(x.Petal_Length,x.Petal_Width,c=colormap[y.Targets],s=40)\n",
    "plt.title('Real clusters')\n",
    "plt.xlabel('Petal Length')\n",
    "plt.ylabel('Petal Width')\n",
    "plt.subplot(2,2,2)\n",
    "plt.scatter(x.Petal_Length,x.Petal_Width,c=colormap[model.labels_],s=40)\n",
    "plt.title('K-maens clustering')\n",
    "plt.xlabel('Petal Length')\n",
    "plt.ylabel('Petal Width')\n",
    "\n",
    "\n",
    "from sklearn import preprocessing\n",
    "scaler=preprocessing.StandardScaler()\n",
    "scaler.fit(x)\n",
    "xsa=scaler.transform(x)\n",
    "xs=pd.DataFrame(xsa,columns=x.columns)\n",
    "\n",
    "from sklearn.mixture import GaussianMixture\n",
    "gmm=GaussianMixture(n_components=3)\n",
    "gmm.fit(xs)\n",
    "gmm_y=gmm.predict(xs)\n",
    "plt.subplot(2,2,3)\n",
    "plt.scatter(x.Petal_Length,x.Petal_Width,c=colormap[gmm_y],s=40)\n",
    "plt.title('GMM clustering')\n",
    "plt.xlabel('Petal Length')\n",
    "plt.ylabel('Petal Width')\n"
   ]
  },
  {
   "cell_type": "code",
   "execution_count": null,
   "metadata": {},
   "outputs": [],
   "source": []
  }
 ],
 "metadata": {
  "kernelspec": {
   "display_name": "Python 3",
   "language": "python",
   "name": "python3"
  },
  "language_info": {
   "codemirror_mode": {
    "name": "ipython",
    "version": 3
   },
   "file_extension": ".py",
   "mimetype": "text/x-python",
   "name": "python",
   "nbconvert_exporter": "python",
   "pygments_lexer": "ipython3",
   "version": "3.6.4"
  }
 },
 "nbformat": 4,
 "nbformat_minor": 2
}
